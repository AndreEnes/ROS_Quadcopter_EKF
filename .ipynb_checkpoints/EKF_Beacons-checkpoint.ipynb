{
 "cells": [
  {
   "cell_type": "markdown",
   "metadata": {},
   "source": [
    "# Localizacion de robot con EKF y balizas\n",
    "Se dispone de un escenario donde se han desplegado en posiciones conocidas balizas estáticas que miden su distancia a un robot aéreo en dicho escenario. Se trata de desarrollar técnicas de estimación de posición 3D para un robot aéreo basados en filtro de Kalman extendido (EKF) que integra las medidas tomadas por las balizas. Plataforma de desarrollo: Matlab/ROS Lenguaje: Matlab o para ROS, C/C++ o Python"
   ]
  },
  {
   "cell_type": "markdown",
   "metadata": {},
   "source": [
    "Steps:\n",
    "1. Se dispone a realizar a interpretare el problema de triangulacion y trialateracion\n",
    "1. Se dispone realizar 1 filtro de kalman \n",
    "1. se dispone de realizar el filtro de kalman extendido\n",
    "\n",
    "Explicando las ecuaciones y todo al respecto\n",
    "\n",
    "https://docs.ufpr.br/~danielsantos/ProbabilisticRobotics.pdf pagina 48"
   ]
  },
  {
   "cell_type": "markdown",
   "metadata": {},
   "source": [
    "## Deteminacion de posicion utilizando balizas\n",
    "obtener la posicion de un objeto de interes a partir de las distancias a posiciones de localizacion conocidadas. La localizacion basandose en la medicion de distancias a ciertos puntos de referencia de localizacion conocida (balizas ), para la localizacion de un objeto movil\n",
    "<!--- [comment](http://platea.pntic.mec.es/rrodrigu/docs/MEMORIA_TRILATERACION_MEDIANTE_BIDETERMINANTE_CAYLEY_MENGER.pdf) -->\n",
    "\n",
    "Para resolver el problema de localizacion  basta con resolver el sigiente sistema de ecuaciones que reporesental la solucion a la interseccion de las 3 esfereas definidas mediante sus centros en las posiciones de referencias y sus raidos como las distancias medidas al abjeto de interes.\n",
    "\n",
    "\n",
    "$$\\begin{matrix}\n",
    "r_{2}^2 = (x_{1}-x_2)^2+ (y_{1}-y_2)^2 +(z_{1}-z_2)^2 \\\\\n",
    "r_{3}^2 = (x_{1}-x_3)^2+ (y_{1}-y_3)^2 +(z_{1}-z_3)^2\\\\\n",
    "r_{4}^2 = (x_{1}-x_4)^2+ (y_{1}-y_4)^2 +(z_{1}-z_4)^2\n",
    "\\end{matrix} $$\n",
    "\n",
    "\n",
    "Dado que dicho sistema de escuaciones no es lineal, su solucion popuede resolver mediante metodos algebraicos, numericos como trilareacion o triangulacion, asi como mediante la linealizacion del sistema de ecuaciones como se realizara al realizar el filtro de kalman extendido.\n",
    "\n",
    "\n",
    "\n",
    "El ruido de la baliza  es una  distribución normal,una distribucion estándar es aquella que tiene una media de 0 y una varianza de 1, \n"
   ]
  },
  {
   "cell_type": "code",
   "execution_count": 65,
   "metadata": {},
   "outputs": [],
   "source": [
    "from Beacon_EKF import Beacons_EKF\n",
    "from Beacon_sim import Beacon_sim\n",
    "import numpy as np\n",
    "\n",
    "dt=0.2\n",
    "init_pos = [2.5,3,2.0]\n",
    "\n",
    "EKF = Beacons_EKF(step_time=dt,init_position=init_pos,init_speed=[0.0,0.0,0.0],q=.0099,r=0.001)\n",
    "beacon = Beacon_sim(pos=init_pos,vel=[0.0,0.0,0.0],dt=dt,ruido =0.001)\n",
    "#print(EKF.get_beacon_point())\n",
    "#EKF.get_status()\n",
    "#z = beacon.update_position()\n",
    "#EKF.EKF.z =z\n",
    "#print(EKF.EKF.z)\n",
    "#z = beacon.update_position()\n",
    "#EKF.EKF.z =z\n",
    "#print(EKF.EKF.z)"
   ]
  },
  {
   "cell_type": "code",
   "execution_count": 69,
   "metadata": {},
   "outputs": [],
   "source": [
    "xs, track_pos,br= [], [],[]\n",
    "xs1 ,xs2, xs3 = [],[],[]\n",
    "br1 ,br2, br3 = [],[],[]\n",
    "track_posx,track_posy, track_posz=[],[],[]\n",
    "for i in range (int(40/dt)):\n",
    "    z = beacon.update_position()\n",
    "    track_pos.append(beacon.get_pos().copy())\n",
    "    br.append(z.copy())\n",
    "    EKF.update(z=z)\n",
    "    xs.append(EKF.get_status())\n",
    "    EKF.predict()\n",
    "    \n",
    "time = np.arange(0, len(xs)*dt, dt)\n",
    "\n",
    "for i in range(len(xs)):\n",
    "    xs1.append(xs[i][0][0]) # valor de posicion x\n",
    "    xs2.append(xs[i][1][0]) # valor de posicion y\n",
    "    xs3.append(xs[i][2][0]) # valor de posicion z\n",
    "    track_posx.append(track_pos[i][0])\n",
    "    track_posy.append(track_pos[i][1])\n",
    "    track_posz.append(track_pos[i][2])\n",
    "    br1.append(br[i][0][0])\n",
    "    br2.append(br[i][1][0])\n",
    "    br3.append(br[i][2][0])\n",
    "    #print(str(track_posx[i])+\"--\"+str(xs1[i]))\n",
    "print(\"d\")"
   ]
  },
  {
   "cell_type": "code",
   "execution_count": 70,
   "metadata": {
    "scrolled": false
   },
   "outputs": [],
   "source": [
    "%matplotlib notebook\n",
    "import matplotlib.pyplot as plt\n",
    "\n",
    "fig, (ax1, ax2,ax3) = plt.subplots(1, 3,figsize=(15,5))\n",
    "fig.suptitle('Horizontally stacked subplots')\n",
    "ax1.plot(time, xs1,  label = \"linex 1\")\n",
    "ax1.plot(time, track_posx, label = \"linex 2\")\n",
    "ax1.set_title('posicion X')\n",
    "ax2.plot(time, xs2,  label = \"liney 1\")\n",
    "ax2.plot(time, track_posy, label = \"liney 2\")\n",
    "ax2.set_title('posicion y')\n",
    "ax3.plot(time, xs3,  label = \"linez 1\")\n",
    "ax3.plot(time, track_posz, label = \"linez 2\")\n",
    "ax3.set_title('posicion z')\n",
    "#plt.plot(time, xs1,  label = \"line 1\")\n",
    "#plt.plot(time, track_posx, label = \"line 2\")\n",
    "plt.legend()\n",
    "plt.show()"
   ]
  },
  {
   "cell_type": "code",
   "execution_count": 57,
   "metadata": {},
   "outputs": [],
   "source": [
    "fig2, (ax11, ax21,ax31) = plt.subplots(1, 3,figsize=(15,5))\n",
    "fig2.suptitle('Horizontally stacked subplots')\n",
    "ax11.plot(time, br1,  label = \"linex 1\")\n",
    "ax11.set_title('radio X')\n",
    "ax21.plot(time, br2,  label = \"liney 1\")\n",
    "ax21.set_title('distancia y')\n",
    "ax31.plot(time, br3,  label = \"linez 1\")\n",
    "ax31.set_title('distancia z')\n",
    "#plt.plot(time, xs1,  label = \"line 1\")\n",
    "#plt.plot(time, track_posx, label = \"line 2\")\n",
    "plt.legend()\n",
    "plt.show()"
   ]
  },
  {
   "cell_type": "code",
   "execution_count": 58,
   "metadata": {},
   "outputs": [],
   "source": [
    "trayec_x =[]\n",
    "trayec_y =[]\n",
    "trayec_z =[]\n",
    "init_pos = [2.5,3,2.0]\n",
    "\n",
    "trayec_x.append(init_pos[0])\n",
    "trayec_y.append(init_pos[1])\n",
    "trayec_z.append(init_pos[2])\n",
    "\n",
    "for i in range(0,50,1):\n",
    "    trayec_x.append(trayec_x[-1])\n",
    "    trayec_y.append(trayec_y[-1])\n",
    "    trayec_z.append(trayec_z[-1]+0.1)\n",
    "    \n",
    "for i in range(0,50,1):\n",
    "    trayec_x.append(trayec_x[-1])\n",
    "    trayec_y.append(trayec_y[-1]+0.1)\n",
    "    trayec_z.append(trayec_z[-1])\n",
    "    \n",
    "for i in range(0,50,1):\n",
    "    trayec_x.append(trayec_x[-1]+0.1)\n",
    "    trayec_y.append(trayec_y[-1])\n",
    "    trayec_z.append(trayec_z[-1])\n",
    "    \n",
    "for i in range(0,50,1):\n",
    "    trayec_x.append(trayec_x[-1])\n",
    "    trayec_y.append(trayec_y[-1]-0.1)\n",
    "    trayec_z.append(trayec_z[-1])\n",
    "for i in range(0,50,1):\n",
    "    trayec_x.append(trayec_x[-1]-0.1)\n",
    "    trayec_y.append(trayec_y[-1])\n",
    "    trayec_z.append(trayec_z[-1])\n",
    "for i in range(0,50,1):\n",
    "    trayec_x.append(trayec_x[-1])\n",
    "    trayec_y.append(trayec_y[-1])\n",
    "    trayec_z.append(trayec_z[-1]-0.1)\n",
    "\n",
    "    \n",
    "ax111 = plt.axes(projection = \"3d\")\n",
    "ax111.plot_wireframe(np.array([trayec_x]),np.array([trayec_y]),np.array([trayec_z]))\n",
    "plt.title(\"grafica 3d\")\n",
    "\n",
    "trayec = []\n",
    "trayec.append(trayec_x)\n",
    "trayec.append(trayec_y)\n",
    "trayec.append(trayec_z)\n",
    "\n",
    "plt.show()\n",
    "\n"
   ]
  },
  {
   "cell_type": "code",
   "execution_count": null,
   "metadata": {},
   "outputs": [],
   "source": []
  },
  {
   "cell_type": "code",
   "execution_count": 59,
   "metadata": {},
   "outputs": [],
   "source": [
    "\n",
    "EKF1 = Beacons_EKF(step_time=dt,init_position=init_pos,init_speed=[0.0,0.0,0.50],q=0.044,r= 0.1)#q=0.92-r=0,25\n",
    "beacon1 = Beacon_sim(pos=init_pos,vel=[0,0.0,0.50],dt=dt,ruido=0.1)\n",
    "beacon1.set_trayec(trayec)\n",
    "beacon_base=EKF1.get_beacon_point()\n",
    "print(beacon_base)\n",
    "xs, track_pos,br= [], [],[]\n",
    "xs1 ,xs2, xs3 = [],[],[]\n",
    "br1 ,br2, br3 = [],[],[]\n",
    "track_posx,track_posy, track_posz=[],[],[]\n",
    "xs.append(EKF1.get_status())\n",
    "#print(xs[-1])\n",
    "for i in range(len(trayec[0]) -1):\n",
    "    z = beacon1.update_position()\n",
    "    track_pos.append(beacon1.get_pos().copy())\n",
    "    br.append(z.copy())\n",
    "    EKF1.update(z=z)\n",
    "    xs.append(EKF1.get_status())\n",
    "    EKF1.predict()\n",
    "    \n",
    "time = np.arange(0, (len(xs)-1)*dt, dt)\n",
    "\n",
    "for i in range(len(xs)-1):\n",
    "    xs1.append(xs[i][0][0]) # valor de posicion x\n",
    "    xs2.append(xs[i][1][0]) # valor de posicion y\n",
    "    xs3.append(xs[i][2][0]) # valor de posicion z\n",
    "    track_posx.append(track_pos[i][0])\n",
    "    track_posy.append(track_pos[i][1])\n",
    "    track_posz.append(track_pos[i][2])\n",
    "    br1.append(br[i][0][0])\n",
    "    br2.append(br[i][1][0])\n",
    "    br3.append(br[i][2][0])\n",
    "print(\"finish\")"
   ]
  },
  {
   "cell_type": "code",
   "execution_count": 60,
   "metadata": {
    "scrolled": true
   },
   "outputs": [],
   "source": [
    "fig, (ax1, ax2,ax3) = plt.subplots(1, 3,figsize=(15,5))\n",
    "fig.suptitle('Horizontally stacked subplots')\n",
    "ax1.plot(time, xs1)\n",
    "ax1.plot(time, track_posx, label = \"linex 2\")\n",
    "ax1.set_title('posicion X')\n",
    "ax2.plot(time, xs2,  label = \"liney 1\")\n",
    "ax2.plot(time, track_posy, label = \"liney 2\")\n",
    "ax2.set_title('posicion y')\n",
    "ax3.plot(time, xs3,  label = \"linez 1\")\n",
    "ax3.plot(time, track_posz, label = \"linez 2\")\n",
    "ax3.set_title('posicion z')\n",
    "#plt.plot(time, xs1,  label = \"line 1\")\n",
    "#plt.plot(time, track_posx, label = \"line 2\")\n",
    "plt.legend()\n",
    "plt.show()"
   ]
  },
  {
   "cell_type": "code",
   "execution_count": 61,
   "metadata": {},
   "outputs": [],
   "source": [
    "\n",
    "fig2, (ax11, ax21,ax31) = plt.subplots(1, 3,figsize=(15,5))\n",
    "fig2.suptitle('Horizontally stacked subplots')\n",
    "ax11.plot(time, br1,  label = \"linex 1\")\n",
    "ax11.set_title('distancia beacon 1')\n",
    "ax21.plot(time, br2,  label = \"liney 1\")\n",
    "ax21.set_title('distancia beacon 2')\n",
    "ax31.plot(time, br3,  label = \"linez 1\")\n",
    "ax31.set_title('distancia beacon 3')\n",
    "#plt.plot(time, xs1,  label = \"line 1\")\n",
    "#plt.plot(time, track_posx, label = \"line 2\")\n",
    "plt.legend()\n",
    "plt.show()"
   ]
  },
  {
   "cell_type": "code",
   "execution_count": 62,
   "metadata": {},
   "outputs": [],
   "source": [
    "ax111 = plt.axes(projection = \"3d\")\n",
    "ax111.plot_wireframe(np.array([trayec_x]),np.array([trayec_y]),np.array([trayec_z]))\n",
    "ax111.plot_wireframe(np.array([xs1]),np.array([xs2]),np.array([xs3]), color=\"red\")\n",
    "ax111.scatter(beacon_base[0][0], beacon_base[0][1], beacon_base[0][2], c='g', marker='o')\n",
    "ax111.scatter(beacon_base[1][0], beacon_base[1][1], beacon_base[1][2], c='g', marker='o')\n",
    "ax111.scatter(beacon_base[2][0], beacon_base[2][1], beacon_base[2][2], c='g', marker='o')\n",
    "plt.title(\"grafica 3d\")\n",
    "print(beacon_base)\n",
    "plt.show()"
   ]
  },
  {
   "cell_type": "code",
   "execution_count": null,
   "metadata": {},
   "outputs": [],
   "source": []
  }
 ],
 "metadata": {
  "kernelspec": {
   "display_name": "Python 3 (ipykernel)",
   "language": "python",
   "name": "python3"
  },
  "language_info": {
   "codemirror_mode": {
    "name": "ipython",
    "version": 3
   },
   "file_extension": ".py",
   "mimetype": "text/x-python",
   "name": "python",
   "nbconvert_exporter": "python",
   "pygments_lexer": "ipython3",
   "version": "3.10.6"
  },
  "vscode": {
   "interpreter": {
    "hash": "916dbcbb3f70747c44a77c7bcd40155683ae19c65e1c03b4aa3499c5328201f1"
   }
  }
 },
 "nbformat": 4,
 "nbformat_minor": 2
}
