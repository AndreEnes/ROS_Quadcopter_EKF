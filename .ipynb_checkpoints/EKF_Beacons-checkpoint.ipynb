{
 "cells": [
  {
   "cell_type": "markdown",
   "metadata": {},
   "source": [
    "# Localizacion de robot con EKF y balizas\n",
    "Se dispone de un escenario donde se han desplegado en posiciones conocidas balizas estáticas que miden su distancia a un robot aéreo en dicho escenario. Se trata de desarrollar técnicas de estimación de posición 3D para un robot aéreo basados en filtro de Kalman extendido (EKF) que integra las medidas tomadas por las balizas. Plataforma de desarrollo: Matlab/ROS Lenguaje: Matlab o para ROS, C/C++ o Python"
   ]
  },
  {
   "cell_type": "markdown",
   "metadata": {},
   "source": [
    "Steps:\n",
    "1. Se dispone a realizar a interpretare el problema de triangulacion y trialateracion\n",
    "1. Se dispone realizar 1 filtro de kalman \n",
    "1. se dispone de realizar el filtro de kalman extendido\n",
    "\n",
    "Explicando las ecuaciones y todo al respecto\n",
    "\n",
    "https://docs.ufpr.br/~danielsantos/ProbabilisticRobotics.pdf pagina 48"
   ]
  },
  {
   "cell_type": "markdown",
   "metadata": {},
   "source": [
    "## Deteminacion de posicion utilizando balizas\n",
    "obtener la posicion de un objeto de interes a partir de las distancias a posiciones de localizacion conocidadas. La localizacion basandose en la medicion de distancias a ciertos puntos de referencia de localizacion conocida (balizas ), para la localizacion de un objeto movil\n",
    "<!--- [comment](http://platea.pntic.mec.es/rrodrigu/docs/MEMORIA_TRILATERACION_MEDIANTE_BIDETERMINANTE_CAYLEY_MENGER.pdf) -->\n",
    "\n",
    "Para resolver el problema de localizacion  basta con resolver el sigiente sistema de ecuaciones que reporesental la solucion a la interseccion de las 3 esfereas definidas mediante sus centros en las posiciones de referencias y sus raidos como las distancias medidas al abjeto de interes.\n",
    "\n",
    "\n",
    "$$\\begin{matrix}\n",
    "r_{2}^2 = (x_{1}-x_2)^2+ (y_{1}-y_2)^2 +(z_{1}-z_2)^2 \\\\\n",
    "r_{3}^2 = (x_{1}-x_3)^2+ (y_{1}-y_3)^2 +(z_{1}-z_3)^2\\\\\n",
    "r_{4}^2 = (x_{1}-x_4)^2+ (y_{1}-y_4)^2 +(z_{1}-z_4)^2\n",
    "\\end{matrix} $$\n",
    "\n",
    "\n",
    "Dado que dicho sistema de escuaciones no es lineal, su solucion popuede resolver mediante metodos algebraicos, numericos como trilareacion o triangulacion, asi como mediante la linealizacion del sistema de ecuaciones como se realizara al realizar el filtro de kalman extendido.\n"
   ]
  },
  {
   "cell_type": "code",
   "execution_count": 29,
   "metadata": {},
   "outputs": [
    {
     "data": {
      "text/latex": [
       "$\\displaystyle \\left[ \\left[ 0.0, \\  0.0, \\  2.0\\right], \\  \\left[ 0.0, \\  5.0, \\  0.0\\right], \\  \\left[ 5.0, \\  5.0, \\  0.0\\right]\\right]$"
      ],
      "text/plain": [
       "[[0.0, 0.0, 2.0], [0.0, 5.0, 0.0], [5.0, 5.0, 0.0]]"
      ]
     },
     "execution_count": 29,
     "metadata": {},
     "output_type": "execute_result"
    }
   ],
   "source": [
    "from Beacon_EKF import Beacons_EKF\n",
    "from Beacon_sim import Beacon_sim\n",
    "import numpy as np\n",
    "\n",
    "dt=0.2\n",
    "EKF = Beacons_EKF(step_time=dt,init_position=[1.1,1.2,0.0])\n",
    "beacon = Beacon_sim(pos=[1.1,1.2,0.0],vel=[10.10,10.0,10.0],dt=dt)\n",
    "EKF.get_beacon_point()\n"
   ]
  },
  {
   "cell_type": "code",
   "execution_count": 32,
   "metadata": {},
   "outputs": [],
   "source": [
    "xs, track = [], []\n",
    "xs1 ,xs2, xs3 = [],[],[]\n",
    "track1,track2=[],[]\n",
    "for i in range (int(50/dt)):\n",
    "    z = beacon.update_position()\n",
    "    track.append([beacon.get_pos(), beacon.get_vel(), z])\n",
    "    EKF.update(z=z)\n",
    "    xs.append(EKF.get_status())\n",
    "    EKF.predict()\n",
    "    \n",
    "time = np.arange(0, len(xs)*dt, dt)\n",
    "\n",
    "for i in range(len(xs)):\n",
    "    xs1.append(xs[i][0][0]) # valor de posicion x\n",
    "    xs2.append(xs[i][1][0]) # valor de posicion y\n",
    "    xs3.append(xs[i][2][0]) # valor de posicion z\n",
    "    track1.append(track[i][0][0])\n"
   ]
  },
  {
   "cell_type": "code",
   "execution_count": 28,
   "metadata": {},
   "outputs": [
    {
     "data": {
      "image/png": "[encoded data removed]",
      "text/plain": [
       "<Figure size 640x480 with 1 Axes>"
      ]
     },
     "metadata": {},
     "output_type": "display_data"
    }
   ],
   "source": [
    "import matplotlib.pyplot as plt\n",
    "plt.plot(xs1, time, label = \"line 1\")\n",
    "plt.plot(track1, time, label = \"line 2\")\n",
    "plt.legend()\n",
    "plt.show()"
   ]
  },
  {
   "cell_type": "code",
   "execution_count": 23,
   "metadata": {},
   "outputs": [
    {
     "data": {
      "text/latex": [
       "$\\displaystyle \\left[\\begin{matrix}\\frac{x}{\\sqrt{x^{2} + y^{2} + z^{2}}} & \\frac{y}{\\sqrt{x^{2} + y^{2} + z^{2}}} & \\frac{z}{\\sqrt{x^{2} + y^{2} + z^{2}}} & 0 & 0 & 0\\\\\\frac{0.2 x}{\\sqrt{0.04 x^{2} + 0.04 z^{2} + \\left(0.2 y - 1\\right)^{2}}} & \\frac{5.0 \\left(0.04 y - 0.2\\right)}{\\sqrt{0.04 x^{2} + 0.04 z^{2} + \\left(0.2 y - 1\\right)^{2}}} & \\frac{0.2 z}{\\sqrt{0.04 x^{2} + 0.04 z^{2} + \\left(0.2 y - 1\\right)^{2}}} & 0 & 0 & 0\\\\\\frac{5.0 \\left(0.04 x - 0.2\\right)}{\\sqrt{0.04 z^{2} + \\left(0.2 x - 1\\right)^{2} + \\left(0.2 y - 1\\right)^{2}}} & \\frac{5.0 \\left(0.04 y - 0.2\\right)}{\\sqrt{0.04 z^{2} + \\left(0.2 x - 1\\right)^{2} + \\left(0.2 y - 1\\right)^{2}}} & \\frac{0.2 z}{\\sqrt{0.04 z^{2} + \\left(0.2 x - 1\\right)^{2} + \\left(0.2 y - 1\\right)^{2}}} & 0 & 0 & 0\\\\\\frac{x - 0.5 x_{vel}}{\\sqrt{\\left(x - 0.5 x_{vel}\\right)^{2} + \\left(y - 0.5 y_{vel}\\right)^{2} + \\left(z - 0.5 z_{vel}\\right)^{2}}} & \\frac{y - 0.5 y_{vel}}{\\sqrt{\\left(x - 0.5 x_{vel}\\right)^{2} + \\left(y - 0.5 y_{vel}\\right)^{2} + \\left(z - 0.5 z_{vel}\\right)^{2}}} & \\frac{z - 0.5 z_{vel}}{\\sqrt{\\left(x - 0.5 x_{vel}\\right)^{2} + \\left(y - 0.5 y_{vel}\\right)^{2} + \\left(z - 0.5 z_{vel}\\right)^{2}}} & \\frac{- 0.5 x + 0.25 x_{vel}}{\\sqrt{\\left(x - 0.5 x_{vel}\\right)^{2} + \\left(y - 0.5 y_{vel}\\right)^{2} + \\left(z - 0.5 z_{vel}\\right)^{2}}} & \\frac{- 0.5 y + 0.25 y_{vel}}{\\sqrt{\\left(x - 0.5 x_{vel}\\right)^{2} + \\left(y - 0.5 y_{vel}\\right)^{2} + \\left(z - 0.5 z_{vel}\\right)^{2}}} & \\frac{- 0.5 z + 0.25 z_{vel}}{\\sqrt{\\left(x - 0.5 x_{vel}\\right)^{2} + \\left(y - 0.5 y_{vel}\\right)^{2} + \\left(z - 0.5 z_{vel}\\right)^{2}}}\\\\\\frac{5.0 \\left(0.04 x - 0.02 x_{vel}\\right)}{\\sqrt{0.04 \\left(x - 0.5 x_{vel}\\right)^{2} + 0.04 \\left(z - 0.5 z_{vel}\\right)^{2} + \\left(0.2 y - 0.1 y_{vel} - 1\\right)^{2}}} & \\frac{5.0 \\left(0.04 y - 0.02 y_{vel} - 0.2\\right)}{\\sqrt{0.04 \\left(x - 0.5 x_{vel}\\right)^{2} + 0.04 \\left(z - 0.5 z_{vel}\\right)^{2} + \\left(0.2 y - 0.1 y_{vel} - 1\\right)^{2}}} & \\frac{5.0 \\left(0.04 z - 0.02 z_{vel}\\right)}{\\sqrt{0.04 \\left(x - 0.5 x_{vel}\\right)^{2} + 0.04 \\left(z - 0.5 z_{vel}\\right)^{2} + \\left(0.2 y - 0.1 y_{vel} - 1\\right)^{2}}} & \\frac{5.0 \\left(- 0.02 x + 0.01 x_{vel}\\right)}{\\sqrt{0.04 \\left(x - 0.5 x_{vel}\\right)^{2} + 0.04 \\left(z - 0.5 z_{vel}\\right)^{2} + \\left(0.2 y - 0.1 y_{vel} - 1\\right)^{2}}} & \\frac{5.0 \\left(- 0.02 y + 0.01 y_{vel} + 0.1\\right)}{\\sqrt{0.04 \\left(x - 0.5 x_{vel}\\right)^{2} + 0.04 \\left(z - 0.5 z_{vel}\\right)^{2} + \\left(0.2 y - 0.1 y_{vel} - 1\\right)^{2}}} & \\frac{5.0 \\left(- 0.02 z + 0.01 z_{vel}\\right)}{\\sqrt{0.04 \\left(x - 0.5 x_{vel}\\right)^{2} + 0.04 \\left(z - 0.5 z_{vel}\\right)^{2} + \\left(0.2 y - 0.1 y_{vel} - 1\\right)^{2}}}\\\\\\frac{5.0 \\left(0.04 x - 0.02 x_{vel} - 0.2\\right)}{\\sqrt{0.04 \\left(z - 0.5 z_{vel}\\right)^{2} + \\left(0.2 x - 0.1 x_{vel} - 1\\right)^{2} + \\left(0.2 y - 0.1 y_{vel} - 1\\right)^{2}}} & \\frac{5.0 \\left(0.04 y - 0.02 y_{vel} - 0.2\\right)}{\\sqrt{0.04 \\left(z - 0.5 z_{vel}\\right)^{2} + \\left(0.2 x - 0.1 x_{vel} - 1\\right)^{2} + \\left(0.2 y - 0.1 y_{vel} - 1\\right)^{2}}} & \\frac{5.0 \\left(0.04 z - 0.02 z_{vel}\\right)}{\\sqrt{0.04 \\left(z - 0.5 z_{vel}\\right)^{2} + \\left(0.2 x - 0.1 x_{vel} - 1\\right)^{2} + \\left(0.2 y - 0.1 y_{vel} - 1\\right)^{2}}} & \\frac{5.0 \\left(- 0.02 x + 0.01 x_{vel} + 0.1\\right)}{\\sqrt{0.04 \\left(z - 0.5 z_{vel}\\right)^{2} + \\left(0.2 x - 0.1 x_{vel} - 1\\right)^{2} + \\left(0.2 y - 0.1 y_{vel} - 1\\right)^{2}}} & \\frac{5.0 \\left(- 0.02 y + 0.01 y_{vel} + 0.1\\right)}{\\sqrt{0.04 \\left(z - 0.5 z_{vel}\\right)^{2} + \\left(0.2 x - 0.1 x_{vel} - 1\\right)^{2} + \\left(0.2 y - 0.1 y_{vel} - 1\\right)^{2}}} & \\frac{5.0 \\left(- 0.02 z + 0.01 z_{vel}\\right)}{\\sqrt{0.04 \\left(z - 0.5 z_{vel}\\right)^{2} + \\left(0.2 x - 0.1 x_{vel} - 1\\right)^{2} + \\left(0.2 y - 0.1 y_{vel} - 1\\right)^{2}}}\\end{matrix}\\right]$"
      ],
      "text/plain": [
       "⎡                                      x                                                                    \n",
       "⎢                              ─────────────────                                                            \n",
       "⎢                                 ______________                                                            \n",
       "⎢                                ╱  2    2    2                                                             \n",
       "⎢                              ╲╱  x  + y  + z                                                              \n",
       "⎢                                                                                                           \n",
       "⎢                                    0.2⋅x                                                                  \n",
       "⎢                    ─────────────────────────────────────                                          ────────\n",
       "⎢                       __________________________________                                             _____\n",
       "⎢                      ╱       2         2              2                                             ╱     \n",
       "⎢                    ╲╱  0.04⋅x  + 0.04⋅z  + (0.2⋅y - 1)                                            ╲╱  0.04\n",
       "⎢                                                                                                           \n",
       "⎢                             5.0⋅(0.04⋅x - 0.2)                                                            \n",
       "⎢                 ──────────────────────────────────────────                                     ───────────\n",
       "⎢                    _______________________________________                                        ________\n",
       "⎢                   ╱       2              2              2                                        ╱       2\n",
       "⎢                 ╲╱  0.04⋅z  + (0.2⋅x - 1)  + (0.2⋅y - 1)                                       ╲╱  0.04⋅z \n",
       "⎢                                                                                                           \n",
       "⎢                                x - 0.5⋅xᵥₑₗ                                                               \n",
       "⎢          ────────────────────────────────────────────────────────                       ──────────────────\n",
       "⎢             _____________________________________________________                          _______________\n",
       "⎢            ╱               2                 2                 2                          ╱               \n",
       "⎢          ╲╱  (x - 0.5⋅xᵥₑₗ)  + (y - 0.5⋅yᵥₑₗ)  + (z - 0.5⋅zᵥₑₗ)                         ╲╱  (x - 0.5⋅xᵥₑₗ)\n",
       "⎢                                                                                                           \n",
       "⎢                          5.0⋅(0.04⋅x - 0.02⋅xᵥₑₗ)                                                    5.0⋅(\n",
       "⎢ ──────────────────────────────────────────────────────────────────────────     ───────────────────────────\n",
       "⎢    _______________________________________________________________________        ________________________\n",
       "⎢   ╱                    2                      2                         2        ╱                    2   \n",
       "⎢ ╲╱  0.04⋅(x - 0.5⋅xᵥₑₗ)  + 0.04⋅(z - 0.5⋅zᵥₑₗ)  + (0.2⋅y - 0.1⋅yᵥₑₗ - 1)       ╲╱  0.04⋅(x - 0.5⋅xᵥₑₗ)  + \n",
       "⎢                                                                                                           \n",
       "⎢                        5.0⋅(0.04⋅x - 0.02⋅xᵥₑₗ - 0.2)                                                 5.0⋅\n",
       "⎢─────────────────────────────────────────────────────────────────────────────  ────────────────────────────\n",
       "⎢   __________________________________________________________________________     _________________________\n",
       "⎢  ╱                    2                         2                         2     ╱                    2    \n",
       "⎣╲╱  0.04⋅(z - 0.5⋅zᵥₑₗ)  + (0.2⋅x - 0.1⋅xᵥₑₗ - 1)  + (0.2⋅y - 0.1⋅yᵥₑₗ - 1)    ╲╱  0.04⋅(z - 0.5⋅zᵥₑₗ)  + (\n",
       "\n",
       "          y                                                                              z                  \n",
       "  ─────────────────                                                              ─────────────────          \n",
       "     ______________                                                                 ______________          \n",
       "    ╱  2    2    2                                                                 ╱  2    2    2           \n",
       "  ╲╱  x  + y  + z                                                                ╲╱  x  + y  + z            \n",
       "                                                                                                            \n",
       "  5.0⋅(0.04⋅y - 0.2)                                                                   0.2⋅z                \n",
       "─────────────────────────────                                          ─────────────────────────────────────\n",
       "_____________________________                                             __________________________________\n",
       "  2         2              2                                             ╱       2         2              2 \n",
       "⋅x  + 0.04⋅z  + (0.2⋅y - 1)                                            ╲╱  0.04⋅x  + 0.04⋅z  + (0.2⋅y - 1)  \n",
       "                                                                                                            \n",
       " 5.0⋅(0.04⋅y - 0.2)                                                                   0.2⋅z                 \n",
       "───────────────────────────────                                     ────────────────────────────────────────\n",
       "_______________________________                                        _____________________________________\n",
       "              2              2                                        ╱       2              2              \n",
       " + (0.2⋅x - 1)  + (0.2⋅y - 1)                                       ╲╱  0.04⋅z  + (0.2⋅x - 1)  + (0.2⋅y - 1)\n",
       "                                                                                                            \n",
       "    y - 0.5⋅yᵥₑₗ                                                                   z - 0.5⋅zᵥₑₗ             \n",
       "──────────────────────────────────────                       ───────────────────────────────────────────────\n",
       "______________________________________                          ____________________________________________\n",
       "2                 2                 2                          ╱               2                 2          \n",
       "  + (y - 0.5⋅yᵥₑₗ)  + (z - 0.5⋅zᵥₑₗ)                         ╲╱  (x - 0.5⋅xᵥₑₗ)  + (y - 0.5⋅yᵥₑₗ)  + (z - 0.\n",
       "                                                                                                            \n",
       "0.04⋅y - 0.02⋅yᵥₑₗ - 0.2)                                                    5.0⋅(0.04⋅z - 0.02⋅zᵥₑₗ)       \n",
       "───────────────────────────────────────────────     ────────────────────────────────────────────────────────\n",
       "_______________________________________________        _____________________________________________________\n",
       "                   2                         2        ╱                    2                      2         \n",
       "0.04⋅(z - 0.5⋅zᵥₑₗ)  + (0.2⋅y - 0.1⋅yᵥₑₗ - 1)       ╲╱  0.04⋅(x - 0.5⋅xᵥₑₗ)  + 0.04⋅(z - 0.5⋅zᵥₑₗ)  + (0.2⋅y\n",
       "                                                                                                            \n",
       "(0.04⋅y - 0.02⋅yᵥₑₗ - 0.2)                                                    5.0⋅(0.04⋅z - 0.02⋅zᵥₑₗ)      \n",
       "─────────────────────────────────────────────────  ─────────────────────────────────────────────────────────\n",
       "_________________________________________________     ______________________________________________________\n",
       "                     2                         2     ╱                    2                         2       \n",
       "0.2⋅x - 0.1⋅xᵥₑₗ - 1)  + (0.2⋅y - 0.1⋅yᵥₑₗ - 1)    ╲╱  0.04⋅(z - 0.5⋅zᵥₑₗ)  + (0.2⋅x - 0.1⋅xᵥₑₗ - 1)  + (0.2\n",
       "\n",
       "                                                                                                            \n",
       "                                                            0                                               \n",
       "                                                                                                            \n",
       "                                                                                                            \n",
       "                                                                                                            \n",
       "                                                                                                            \n",
       "                                                                                                            \n",
       "                                                            0                                               \n",
       "                                                                                                            \n",
       "                                                                                                            \n",
       "                                                                                                            \n",
       "                                                                                                            \n",
       "                                                                                                            \n",
       "──                                                          0                                               \n",
       "__                                                                                                          \n",
       "2                                                                                                           \n",
       "                                                                                                            \n",
       "                                                                                                            \n",
       "                                                   -0.5⋅x + 0.25⋅xᵥₑₗ                                       \n",
       "─────────                       ────────────────────────────────────────────────────────                    \n",
       "_________                          _____________________________________________________                    \n",
       "       2                          ╱               2                 2                 2                     \n",
       "5⋅zᵥₑₗ)                         ╲╱  (x - 0.5⋅xᵥₑₗ)  + (y - 0.5⋅yᵥₑₗ)  + (z - 0.5⋅zᵥₑₗ)                      \n",
       "                                                                                                            \n",
       "                                               5.0⋅(-0.02⋅x + 0.01⋅xᵥₑₗ)                                    \n",
       "──────────────────     ──────────────────────────────────────────────────────────────────────────     ──────\n",
       "__________________        _______________________________________________________________________        ___\n",
       "                2        ╱                    2                      2                         2        ╱   \n",
       " - 0.1⋅yᵥₑₗ - 1)       ╲╱  0.04⋅(x - 0.5⋅xᵥₑₗ)  + 0.04⋅(z - 0.5⋅zᵥₑₗ)  + (0.2⋅y - 0.1⋅yᵥₑₗ - 1)       ╲╱  0.\n",
       "                                                                                                            \n",
       "                                             5.0⋅(-0.02⋅x + 0.01⋅xᵥₑₗ + 0.1)                                \n",
       "────────────────────  ─────────────────────────────────────────────────────────────────────────────  ───────\n",
       "____________________     __________________________________________________________________________     ____\n",
       "                  2     ╱                    2                         2                         2     ╱    \n",
       "⋅y - 0.1⋅yᵥₑₗ - 1)    ╲╱  0.04⋅(z - 0.5⋅zᵥₑₗ)  + (0.2⋅x - 0.1⋅xᵥₑₗ - 1)  + (0.2⋅y - 0.1⋅yᵥₑₗ - 1)    ╲╱  0.0\n",
       "\n",
       "                                                                                                            \n",
       "                               0                                                                            \n",
       "                                                                                                            \n",
       "                                                                                                            \n",
       "                                                                                                            \n",
       "                                                                                                            \n",
       "                                                                                                            \n",
       "                               0                                                                            \n",
       "                                                                                                            \n",
       "                                                                                                            \n",
       "                                                                                                            \n",
       "                                                                                                            \n",
       "                                                                                                            \n",
       "                               0                                                                            \n",
       "                                                                                                            \n",
       "                                                                                                            \n",
       "                                                                                                            \n",
       "                                                                                                            \n",
       "                      -0.5⋅y + 0.25⋅yᵥₑₗ                                                             -0.5⋅z \n",
       "   ────────────────────────────────────────────────────────                       ──────────────────────────\n",
       "      _____________________________________________________                          _______________________\n",
       "     ╱               2                 2                 2                          ╱               2       \n",
       "   ╲╱  (x - 0.5⋅xᵥₑₗ)  + (y - 0.5⋅yᵥₑₗ)  + (z - 0.5⋅zᵥₑₗ)                         ╲╱  (x - 0.5⋅xᵥₑₗ)  + (y -\n",
       "                                                                                                            \n",
       "               5.0⋅(-0.02⋅y + 0.01⋅yᵥₑₗ + 0.1)                                                   5.0⋅(-0.02⋅\n",
       "────────────────────────────────────────────────────────────────────     ───────────────────────────────────\n",
       "____________________________________________________________________        ________________________________\n",
       "                 2                      2                         2        ╱                    2           \n",
       "04⋅(x - 0.5⋅xᵥₑₗ)  + 0.04⋅(z - 0.5⋅zᵥₑₗ)  + (0.2⋅y - 0.1⋅yᵥₑₗ - 1)       ╲╱  0.04⋅(x - 0.5⋅xᵥₑₗ)  + 0.04⋅(z \n",
       "                                                                                                            \n",
       "                5.0⋅(-0.02⋅y + 0.01⋅yᵥₑₗ + 0.1)                                                   5.0⋅(-0.02\n",
       "──────────────────────────────────────────────────────────────────────  ────────────────────────────────────\n",
       "______________________________________________________________________     _________________________________\n",
       "                2                         2                         2     ╱                    2            \n",
       "4⋅(z - 0.5⋅zᵥₑₗ)  + (0.2⋅x - 0.1⋅xᵥₑₗ - 1)  + (0.2⋅y - 0.1⋅yᵥₑₗ - 1)    ╲╱  0.04⋅(z - 0.5⋅zᵥₑₗ)  + (0.2⋅x - \n",
       "\n",
       "                                         ⎤\n",
       "  0                                      ⎥\n",
       "                                         ⎥\n",
       "                                         ⎥\n",
       "                                         ⎥\n",
       "                                         ⎥\n",
       "                                         ⎥\n",
       "  0                                      ⎥\n",
       "                                         ⎥\n",
       "                                         ⎥\n",
       "                                         ⎥\n",
       "                                         ⎥\n",
       "                                         ⎥\n",
       "  0                                      ⎥\n",
       "                                         ⎥\n",
       "                                         ⎥\n",
       "                                         ⎥\n",
       "                                         ⎥\n",
       "+ 0.25⋅zᵥₑₗ                              ⎥\n",
       "──────────────────────────────           ⎥\n",
       "______________________________           ⎥\n",
       "          2                 2            ⎥\n",
       " 0.5⋅yᵥₑₗ)  + (z - 0.5⋅zᵥₑₗ)             ⎥\n",
       "                                         ⎥\n",
       "z + 0.01⋅zᵥₑₗ)                           ⎥\n",
       "───────────────────────────────────────  ⎥\n",
       "_______________________________________  ⎥\n",
       "           2                         2   ⎥\n",
       "- 0.5⋅zᵥₑₗ)  + (0.2⋅y - 0.1⋅yᵥₑₗ - 1)    ⎥\n",
       "                                         ⎥\n",
       "⋅z + 0.01⋅zᵥₑₗ)                          ⎥\n",
       "─────────────────────────────────────────⎥\n",
       "_________________________________________⎥\n",
       "             2                         2 ⎥\n",
       "0.1⋅xᵥₑₗ - 1)  + (0.2⋅y - 0.1⋅yᵥₑₗ - 1)  ⎦"
      ]
     },
     "execution_count": 23,
     "metadata": {},
     "output_type": "execute_result"
    }
   ],
   "source": [
    "import sympy\n",
    "sympy.init_printing(use_latex='mathjax')\n",
    "\n",
    "x, y,z, x_vel,y_vel,z_vel  = sympy.symbols('x, y, z, x_vel,y_vel,z_vel')\n",
    "subs = {x: 0, y: 0, z:0, x_vel:0, y_vel:0,z_vel:0}\n",
    "dt =0.5\n",
    "#\n",
    "Beacons=[{'name': 'beacon 1', 'x': 0.0, 'y': 0.0, 'z': 0.0}, {'name': 'beacon 2', 'x': 0.0, 'y': 5.0, 'z': 0.0}, {'name': 'beacon 3', 'x': 5.0, 'y': 5.0, 'z': 0.0}]\n",
    "equa_beacon1 = sympy.sqrt((x-Beacons[0]['x'])**2 + (y-Beacons[0]['y'])**2 + (z-Beacons[0]['z'])**2)\n",
    "equa_beacon2 = sympy.sqrt((x-Beacons[1]['x'])**2 + (y-Beacons[1]['y'])**2 + (z-Beacons[1]['z'])**2)\n",
    "equa_beacon3 = sympy.sqrt((x-Beacons[2]['x'])**2 + (y-Beacons[2]['y'])**2 + (z-Beacons[2]['z'])**2)\n",
    "\n",
    "Beacons\n",
    "equa_beacon_vel1 = sympy.sqrt((x-Beacons[0]['x']-dt*x_vel)**2 + (y-Beacons[0]['y']-dt*y_vel)**2 + (z-Beacons[0]['z']-dt*z_vel)**2)\n",
    "equa_beacon_vel2 = sympy.sqrt((x-Beacons[1]['x']-dt*x_vel)**2 + (y-Beacons[1]['y']-dt*y_vel)**2 + (z-Beacons[1]['z']-dt*z_vel)**2)\n",
    "equa_beacon_vel3 = sympy.sqrt((x-Beacons[2]['x']-dt*x_vel)**2 + (y-Beacons[2]['y']-dt*y_vel)**2 + (z-Beacons[2]['z']-dt*z_vel)**2)\n",
    "H = sympy.Matrix([[equa_beacon1],\n",
    "                [equa_beacon2],\n",
    "                [equa_beacon3],\n",
    "                [equa_beacon_vel1],\n",
    "                [equa_beacon_vel2],\n",
    "                [equa_beacon_vel3]])\n",
    "state = sympy.Matrix([ x, y, z, x_vel,y_vel,z_vel])\n",
    "H.jacobian(state)"
   ]
  },
  {
   "cell_type": "code",
   "execution_count": 24,
   "metadata": {},
   "outputs": [],
   "source": [
    "import numpy as np\n",
    "y =np.array([[ 0.0134654 ],\n",
    " [-0.01233392],\n",
    " [-0.0058837 ],\n",
    " [ 0.        ],\n",
    " [ 0.        ],\n",
    "[-1.48917327]])\n",
    "k = np.array([[ 0.06409711,  0.44420199 ,-0.63112332 ,-0.04389859 , 0.30968647 ,-0.40235609],\n",
    " [ 0.04846916 ,-0.53356485, -0.23912446 ,-0.04054016 ,-0.25649752, -0.07190807],\n",
    " [-0.74238529 ,-0.03877745 ,-0.38778618 ,-0.4817592 , -0.01804262 ,-0.34145923],\n",
    " [ 0.53997849 , 0.67257762, -1.14383611 ,-0.53119877 ,-0.73451492  ,1.22430733],\n",
    " [ 0.44504665 ,-1.38533667 ,-0.83608198 ,-0.43693861 , 1.43663617 , 0.85046359],\n",
    " [-1.30313045 ,-0.10367417, -0.23163472 , 1.39948229,  0.1072827  , 0.29992656]])"
   ]
  },
  {
   "cell_type": "code",
   "execution_count": 6,
   "metadata": {},
   "outputs": [
    {
     "data": {
      "text/plain": [
       "array([[ 0.59827562],\n",
       "       [ 0.11572412],\n",
       "       [ 0.50125534],\n",
       "       [-1.81750025],\n",
       "       [-1.23848903],\n",
       "       [-0.46154821]])"
      ]
     },
     "execution_count": 6,
     "metadata": {},
     "output_type": "execute_result"
    }
   ],
   "source": [
    "np.dot(k,y)"
   ]
  },
  {
   "cell_type": "code",
   "execution_count": null,
   "metadata": {},
   "outputs": [],
   "source": []
  }
 ],
 "metadata": {
  "kernelspec": {
   "display_name": "Python 3 (ipykernel)",
   "language": "python",
   "name": "python3"
  },
  "language_info": {
   "codemirror_mode": {
    "name": "ipython",
    "version": 3
   },
   "file_extension": ".py",
   "mimetype": "text/x-python",
   "name": "python",
   "nbconvert_exporter": "python",
   "pygments_lexer": "ipython3",
   "version": "3.10.6"
  },
  "vscode": {
   "interpreter": {
    "hash": "916dbcbb3f70747c44a77c7bcd40155683ae19c65e1c03b4aa3499c5328201f1"
   }
  }
 },
 "nbformat": 4,
 "nbformat_minor": 2
}
